{
 "cells": [
  {
   "cell_type": "markdown",
   "id": "2ce30d6d-dd6c-4698-a399-19fe9e3af905",
   "metadata": {},
   "source": [
    "# Exploration of model Results\n",
    "\n",
    "In this notebook, we will explore the model results by varying a few parameters."
   ]
  },
  {
   "cell_type": "markdown",
   "id": "d17caaf6-f2b6-46ff-abd2-9e00eb51ac79",
   "metadata": {},
   "source": [
    "## Step 1. Import the required libraries"
   ]
  },
  {
   "cell_type": "code",
   "execution_count": 1,
   "id": "b7ee131b-16d8-4250-ae4e-850bc9ec1bb0",
   "metadata": {},
   "outputs": [
    {
     "name": "stdout",
     "output_type": "stream",
     "text": [
      "-0.09132421054257657\n"
     ]
    }
   ],
   "source": [
    "import numpy as np\n",
    "import pandas as pd\n",
    "import matplotlib.pyplot as plt\n",
    "import model_proposal #AEM model location\n",
    "import solvers #Solvers for some analysis from the aem model"
   ]
  },
  {
   "cell_type": "markdown",
   "id": "a709da6c-95d1-4748-bffb-e993c8300263",
   "metadata": {},
   "source": [
    "## Step 2. Create and define the model"
   ]
  },
  {
   "cell_type": "code",
   "execution_count": 4,
   "id": "050305bf-d020-452b-8523-52b875e3a420",
   "metadata": {},
   "outputs": [
    {
     "name": "stdout",
     "output_type": "stream",
     "text": [
      "River Capture Length, Capture position and contribution to discharge is:\n",
      "(69.03765439001975, [15.481172804990123, 84.51882719500988], 0.3895411219076536)\n"
     ]
    }
   ],
   "source": [
    "# Define model with hydraulic condutivity = 3 m/d, height = 20, reference river head = 18\n",
    "\n",
    "aem_model = model_proposal.Model(k = 3, H = 20, h0 = 18)\n",
    "\n",
    "# Add well at position x = 30, y = 50 and pumping rate of 250 m3/d, well radius = 0.1 m/d\n",
    "\n",
    "well = model_proposal.Well(aem_model, Q = 250, rw = 0.1, x = 20, y = 50)\n",
    "\n",
    "# Solver for river length and river water capture fraction.\n",
    "\n",
    "solv = solvers.river_length(aem_model)\n",
    "\n",
    "print(\"River Capture Length, Capture position and contribution to discharge is:\")\n",
    "print(solv.solve_river_length())\n",
    "\n",
    "length, riv_coords, capture_fraction = solv.solve_river_length()"
   ]
  },
  {
   "cell_type": "markdown",
   "id": "aabe60e3-f66e-4a28-85e9-4655c48762ae",
   "metadata": {},
   "source": [
    "## Step 3. Vary parameters and measure indicators"
   ]
  },
  {
   "cell_type": "code",
   "execution_count": 7,
   "id": "c0623ac7-23e5-47e2-879b-8d397e684102",
   "metadata": {},
   "outputs": [],
   "source": [
    "# Setting up the dataframe with common average ks [m/s] for different aquifer matrix type\n",
    "hk = pd.DataFrame({'matrix' : ['coarse gravel','gravel', 'coarse sand', 'medium sand', 'fine sand'],\n",
    "                  'k_m_s' : [1e-1,1e-2,1e-3,5e-3,1e-4]})\n",
    "\n",
    "# Converting k from [m/s] to [m/d]\n",
    "hk['k_m_d'] = hk['k_m_s']*3600*24"
   ]
  },
  {
   "cell_type": "code",
   "execution_count": 9,
   "id": "bc60a682-aff9-47a9-adca-becb1de5d141",
   "metadata": {},
   "outputs": [
    {
     "name": "stdout",
     "output_type": "stream",
     "text": [
      "8640.0\n",
      "River Capture Length, Capture position and contribution to discharge is:\n",
      "(69.03765439001975, [15.481172804990123, 84.51882719500988], 0.3895411219076536)\n",
      "864.0\n",
      "River Capture Length, Capture position and contribution to discharge is:\n",
      "(69.03765439001975, [15.481172804990123, 84.51882719500988], 0.3895411219076536)\n",
      "86.4\n",
      "River Capture Length, Capture position and contribution to discharge is:\n",
      "(69.03765439001975, [15.481172804990123, 84.51882719500988], 0.3895411219076536)\n",
      "432.0\n",
      "River Capture Length, Capture position and contribution to discharge is:\n",
      "(69.03765439001975, [15.481172804990123, 84.51882719500988], 0.3895411219076536)\n",
      "8.64\n",
      "River Capture Length, Capture position and contribution to discharge is:\n",
      "(69.03765439001975, [15.481172804990123, 84.51882719500988], 0.3895411219076536)\n"
     ]
    }
   ],
   "source": [
    "lengths = []\n",
    "cap_fracs = []\n",
    "tts = []\n",
    "\n",
    "for k in hk['k_m_d']:\n",
    "    print(k)\n",
    "    pass\n",
    "    aem_model = model_proposal.Model(k = k, H = 20, h0 = 18)\n",
    "\n",
    "    # Add well at position x = 30, y = 50 and pumping rate of 250 m3/d, well radius = 0.1 m/d\n",
    "\n",
    "    well = model_proposal.Well(aem_model, Q = 250, rw = 0.1, x = 20, y = 50)\n",
    "\n",
    "    # Solver for river length and river water capture fraction.\n",
    "\n",
    "    solv = solvers.river_length(aem_model)\n",
    "\n",
    "    print(\"River Capture Length, Capture position and contribution to discharge is:\")\n",
    "    print(solv.solve_river_length())\n",
    "\n",
    "    length, riv_coords, capture_fraction = solv.solve_river_length()\n",
    "    lengths.append(length)\n",
    "    cap_fracs.append(capture_fraction)\n",
    "    tt = solv.time_travel(0.3, delta_s = 0.1)\n",
    "    tts.append(np.array(tt).min())"
   ]
  }
 ],
 "metadata": {
  "kernelspec": {
   "display_name": "Python 3 (ipykernel)",
   "language": "python",
   "name": "python3"
  },
  "language_info": {
   "codemirror_mode": {
    "name": "ipython",
    "version": 3
   },
   "file_extension": ".py",
   "mimetype": "text/x-python",
   "name": "python",
   "nbconvert_exporter": "python",
   "pygments_lexer": "ipython3",
   "version": "3.8.5"
  }
 },
 "nbformat": 4,
 "nbformat_minor": 5
}
